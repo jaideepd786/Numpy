{
 "cells": [
  {
   "cell_type": "code",
   "execution_count": 1,
   "id": "4aae650a",
   "metadata": {},
   "outputs": [],
   "source": [
    "import numpy as np"
   ]
  },
  {
   "cell_type": "code",
   "execution_count": 6,
   "id": "be7e041b",
   "metadata": {},
   "outputs": [],
   "source": [
    "arr=np.array([1])"
   ]
  },
  {
   "cell_type": "code",
   "execution_count": 7,
   "id": "865547fc",
   "metadata": {},
   "outputs": [
    {
     "data": {
      "text/plain": [
       "dtype('int32')"
      ]
     },
     "execution_count": 7,
     "metadata": {},
     "output_type": "execute_result"
    }
   ],
   "source": [
    "arr.dtype"
   ]
  },
  {
   "cell_type": "code",
   "execution_count": 8,
   "id": "80da8f0f",
   "metadata": {},
   "outputs": [
    {
     "name": "stdout",
     "output_type": "stream",
     "text": [
      "[1, 2, 3, 4, 5]\n",
      "<class 'list'>\n"
     ]
    }
   ],
   "source": [
    "lst=[1,2,3,4,5]\n",
    "print(lst)\n",
    "print(type(lst))"
   ]
  },
  {
   "cell_type": "code",
   "execution_count": 10,
   "id": "7dbffb8d",
   "metadata": {},
   "outputs": [
    {
     "name": "stdout",
     "output_type": "stream",
     "text": [
      "<class 'numpy.ndarray'>\n"
     ]
    }
   ],
   "source": [
    "arr=np.array(lst)\n",
    "print(type(arr))"
   ]
  },
  {
   "cell_type": "code",
   "execution_count": 14,
   "id": "7c97fe88",
   "metadata": {},
   "outputs": [
    {
     "data": {
      "text/plain": [
       "(5,)"
      ]
     },
     "execution_count": 14,
     "metadata": {},
     "output_type": "execute_result"
    }
   ],
   "source": [
    "arr.shape"
   ]
  },
  {
   "cell_type": "code",
   "execution_count": 15,
   "id": "5cc5e264",
   "metadata": {},
   "outputs": [
    {
     "data": {
      "text/plain": [
       "1"
      ]
     },
     "execution_count": 15,
     "metadata": {},
     "output_type": "execute_result"
    }
   ],
   "source": [
    "arr.ndim"
   ]
  },
  {
   "cell_type": "code",
   "execution_count": 16,
   "id": "50a5c85c",
   "metadata": {},
   "outputs": [
    {
     "data": {
      "text/plain": [
       "5"
      ]
     },
     "execution_count": 16,
     "metadata": {},
     "output_type": "execute_result"
    }
   ],
   "source": [
    "arr.size"
   ]
  },
  {
   "cell_type": "code",
   "execution_count": 23,
   "id": "76ad1463",
   "metadata": {},
   "outputs": [
    {
     "name": "stdout",
     "output_type": "stream",
     "text": [
      "[[1 2 3]\n",
      " [4 5 6]]\n",
      "<class 'numpy.ndarray'>\n",
      "Shape:  (2, 3)\n",
      "Size(No of elements):  6\n",
      "Dimensions:  2\n"
     ]
    }
   ],
   "source": [
    "arr=np.array([[1,2,3],[4,5,6]])\n",
    "print(arr)\n",
    "print(type(arr))\n",
    "print('Shape: ',arr.shape)\n",
    "print('Size(No of elements): ',arr.size)\n",
    "print('Dimensions: ',arr.ndim)\n"
   ]
  },
  {
   "cell_type": "code",
   "execution_count": 20,
   "id": "c42d2155",
   "metadata": {},
   "outputs": [
    {
     "name": "stdout",
     "output_type": "stream",
     "text": [
      "[[1, 2, 3, 4], [4, 5, 6, 7], [7, 8, 9, 10]]\n",
      "<class 'list'>\n"
     ]
    }
   ],
   "source": [
    "my_lst=[[1,2,3,4],[4,5,6,7],[7,8,9,10]]\n",
    "print(my_lst)\n",
    "print(type(my_lst))"
   ]
  },
  {
   "cell_type": "code",
   "execution_count": 24,
   "id": "1e26fb98",
   "metadata": {},
   "outputs": [
    {
     "name": "stdout",
     "output_type": "stream",
     "text": [
      "[[ 1  2  3  4]\n",
      " [ 4  5  6  7]\n",
      " [ 7  8  9 10]]\n",
      "<class 'numpy.ndarray'>\n",
      "Shape:  (3, 4)\n",
      "Size(No of elements):  12\n",
      "Dimensions:  2\n"
     ]
    }
   ],
   "source": [
    "b=np.array(my_lst)\n",
    "print(b)\n",
    "print(type(b))\n",
    "print('Shape: ',b.shape)\n",
    "print('Size(No of elements): ',b.size)\n",
    "print('Dimensions: ',b.ndim)\n"
   ]
  },
  {
   "cell_type": "code",
   "execution_count": 27,
   "id": "75a943f2",
   "metadata": {},
   "outputs": [
    {
     "name": "stdout",
     "output_type": "stream",
     "text": [
      "[[[1, 2, 3], [4, 5, 6]], [[8, 6, 4], [3, 7, 5]], [[2, 5, 9], [0, 4, 8]]]\n"
     ]
    }
   ],
   "source": [
    "my_lst=[[[1,2,3],[4,5,6]],[[8,6,4],[3,7,5]],[[2,5,9],[0,4,8]]]\n",
    "print(my_lst)"
   ]
  },
  {
   "cell_type": "code",
   "execution_count": 41,
   "id": "a14f1790",
   "metadata": {},
   "outputs": [
    {
     "name": "stdout",
     "output_type": "stream",
     "text": [
      "[[[1 2 3]\n",
      "  [4 5 6]]\n",
      "\n",
      " [[8 6 4]\n",
      "  [3 7 5]]\n",
      "\n",
      " [[2 5 9]\n",
      "  [0 4 8]]]\n",
      "3\n",
      "(3, 2, 3)\n",
      "18\n",
      "int32\n"
     ]
    }
   ],
   "source": [
    "x=np.array(my_lst)\n",
    "print(x)\n",
    "print(x.ndim)\n",
    "print(x.shape)\n",
    "print(x.size)\n",
    "print(x.dtype)"
   ]
  },
  {
   "cell_type": "code",
   "execution_count": 42,
   "id": "4ac15619",
   "metadata": {},
   "outputs": [],
   "source": [
    "nw=np.arange(24).reshape((2,3,4))"
   ]
  },
  {
   "cell_type": "code",
   "execution_count": 43,
   "id": "95924ed0",
   "metadata": {},
   "outputs": [
    {
     "data": {
      "text/plain": [
       "array([[[ 0,  1,  2,  3],\n",
       "        [ 4,  5,  6,  7],\n",
       "        [ 8,  9, 10, 11]],\n",
       "\n",
       "       [[12, 13, 14, 15],\n",
       "        [16, 17, 18, 19],\n",
       "        [20, 21, 22, 23]]])"
      ]
     },
     "execution_count": 43,
     "metadata": {},
     "output_type": "execute_result"
    }
   ],
   "source": [
    "nw"
   ]
  },
  {
   "cell_type": "code",
   "execution_count": 44,
   "id": "0cac52c3",
   "metadata": {},
   "outputs": [
    {
     "data": {
      "text/plain": [
       "array([[ 8,  9, 10, 11],\n",
       "       [20, 21, 22, 23]])"
      ]
     },
     "execution_count": 44,
     "metadata": {},
     "output_type": "execute_result"
    }
   ],
   "source": [
    "nw.max(axis=1)      # Column with max sum"
   ]
  },
  {
   "cell_type": "code",
   "execution_count": 45,
   "id": "10ed0f16",
   "metadata": {},
   "outputs": [
    {
     "data": {
      "text/plain": [
       "array([[12, 13, 14, 15],\n",
       "       [16, 17, 18, 19],\n",
       "       [20, 21, 22, 23]])"
      ]
     },
     "execution_count": 45,
     "metadata": {},
     "output_type": "execute_result"
    }
   ],
   "source": [
    "nw.max(axis=0)      # Row with max sum"
   ]
  },
  {
   "cell_type": "code",
   "execution_count": 46,
   "id": "6bee3fb1",
   "metadata": {},
   "outputs": [
    {
     "data": {
      "text/plain": [
       "array([[12, 14, 16, 18],\n",
       "       [20, 22, 24, 26],\n",
       "       [28, 30, 32, 34]])"
      ]
     },
     "execution_count": 46,
     "metadata": {},
     "output_type": "execute_result"
    }
   ],
   "source": [
    "nw.sum(axis=0)      # sumation of each "
   ]
  },
  {
   "cell_type": "code",
   "execution_count": 47,
   "id": "a058ab76",
   "metadata": {},
   "outputs": [
    {
     "data": {
      "text/plain": [
       "array([ 2,  6, 10, 14, 18, 22, 26, 30, 34, 38, 42, 46, 50, 54, 58, 62, 66,\n",
       "       70, 74, 78, 82, 86, 90, 94, 98])"
      ]
     },
     "execution_count": 47,
     "metadata": {},
     "output_type": "execute_result"
    }
   ],
   "source": [
    "np.arange(2,100,4)"
   ]
  },
  {
   "cell_type": "code",
   "execution_count": 48,
   "id": "85710a39",
   "metadata": {},
   "outputs": [
    {
     "data": {
      "text/plain": [
       "array([0., 0., 0., 0., 0.])"
      ]
     },
     "execution_count": 48,
     "metadata": {},
     "output_type": "execute_result"
    }
   ],
   "source": [
    "np.zeros(5)"
   ]
  },
  {
   "cell_type": "code",
   "execution_count": 50,
   "id": "9491b246",
   "metadata": {},
   "outputs": [
    {
     "data": {
      "text/plain": [
       "array([[0., 0., 0., 0., 0.],\n",
       "       [0., 0., 0., 0., 0.],\n",
       "       [0., 0., 0., 0., 0.],\n",
       "       [0., 0., 0., 0., 0.]])"
      ]
     },
     "execution_count": 50,
     "metadata": {},
     "output_type": "execute_result"
    }
   ],
   "source": [
    "np.zeros((4,5))"
   ]
  },
  {
   "cell_type": "code",
   "execution_count": 51,
   "id": "4293a5b7",
   "metadata": {},
   "outputs": [
    {
     "data": {
      "text/plain": [
       "array([1., 1., 1., 1., 1.])"
      ]
     },
     "execution_count": 51,
     "metadata": {},
     "output_type": "execute_result"
    }
   ],
   "source": [
    "np.ones(5)"
   ]
  },
  {
   "cell_type": "code",
   "execution_count": 52,
   "id": "3fd7742d",
   "metadata": {},
   "outputs": [
    {
     "data": {
      "text/plain": [
       "array([[1., 1., 1., 1.],\n",
       "       [1., 1., 1., 1.],\n",
       "       [1., 1., 1., 1.]])"
      ]
     },
     "execution_count": 52,
     "metadata": {},
     "output_type": "execute_result"
    }
   ],
   "source": [
    "np.ones((3,4))"
   ]
  },
  {
   "cell_type": "code",
   "execution_count": 64,
   "id": "b3a6497a",
   "metadata": {},
   "outputs": [
    {
     "data": {
      "text/plain": [
       "array([[1., 0., 0., 0., 0.],\n",
       "       [0., 1., 0., 0., 0.],\n",
       "       [0., 0., 1., 0., 0.],\n",
       "       [0., 0., 0., 1., 0.],\n",
       "       [0., 0., 0., 0., 1.]])"
      ]
     },
     "execution_count": 64,
     "metadata": {},
     "output_type": "execute_result"
    }
   ],
   "source": [
    "np.identity(5)\n"
   ]
  },
  {
   "cell_type": "code",
   "execution_count": 61,
   "id": "86cc8279",
   "metadata": {},
   "outputs": [
    {
     "data": {
      "text/plain": [
       "array([[1., 0., 0., 0., 0.],\n",
       "       [0., 1., 0., 0., 0.],\n",
       "       [0., 0., 1., 0., 0.]])"
      ]
     },
     "execution_count": 61,
     "metadata": {},
     "output_type": "execute_result"
    }
   ],
   "source": [
    "np.eye(3,5)"
   ]
  },
  {
   "cell_type": "code",
   "execution_count": 58,
   "id": "616cb53f",
   "metadata": {},
   "outputs": [
    {
     "data": {
      "text/plain": [
       "array([[ 0,  1,  2],\n",
       "       [ 3,  4,  5],\n",
       "       [ 6,  7,  8],\n",
       "       [ 9, 10, 11],\n",
       "       [12, 13, 14],\n",
       "       [15, 16, 17],\n",
       "       [18, 19, 20],\n",
       "       [21, 22, 23]])"
      ]
     },
     "execution_count": 58,
     "metadata": {},
     "output_type": "execute_result"
    }
   ],
   "source": [
    "df=np.arange(24).reshape(8,3)\n",
    "df\n"
   ]
  },
  {
   "cell_type": "markdown",
   "id": "0b379891",
   "metadata": {},
   "source": [
    "## BroadCasting"
   ]
  },
  {
   "cell_type": "code",
   "execution_count": 72,
   "id": "8f80923a",
   "metadata": {},
   "outputs": [
    {
     "name": "stdout",
     "output_type": "stream",
     "text": [
      "[[1 1 1 1]\n",
      " [1 1 1 1]\n",
      " [1 1 1 1]]\n"
     ]
    }
   ],
   "source": [
    "bg=np.ones((3,4),dtype='int')\n",
    "print(bg)"
   ]
  },
  {
   "cell_type": "code",
   "execution_count": 73,
   "id": "abef6814",
   "metadata": {},
   "outputs": [
    {
     "data": {
      "text/plain": [
       "dtype('int32')"
      ]
     },
     "execution_count": 73,
     "metadata": {},
     "output_type": "execute_result"
    }
   ],
   "source": [
    "bg.dtype"
   ]
  },
  {
   "cell_type": "code",
   "execution_count": 74,
   "id": "6ca15fef",
   "metadata": {},
   "outputs": [
    {
     "data": {
      "text/plain": [
       "array([[3, 3, 3, 3],\n",
       "       [3, 3, 3, 3],\n",
       "       [3, 3, 3, 3]])"
      ]
     },
     "execution_count": 74,
     "metadata": {},
     "output_type": "execute_result"
    }
   ],
   "source": [
    "bg*3"
   ]
  },
  {
   "cell_type": "markdown",
   "id": "a3f4ab7a",
   "metadata": {},
   "source": [
    "## Random Number Generation"
   ]
  },
  {
   "cell_type": "code",
   "execution_count": 84,
   "id": "e0846270",
   "metadata": {},
   "outputs": [
    {
     "data": {
      "text/plain": [
       "array([[0.07090601, 0.05587993],\n",
       "       [0.02728147, 0.91788715],\n",
       "       [0.28578768, 0.74608585],\n",
       "       [0.17931064, 0.8272255 ],\n",
       "       [0.34764158, 0.05626897],\n",
       "       [0.19596715, 0.07976341],\n",
       "       [0.63027397, 0.47836743],\n",
       "       [0.29274439, 0.5025024 ],\n",
       "       [0.4768335 , 0.28210904],\n",
       "       [0.34221765, 0.50528304]])"
      ]
     },
     "execution_count": 84,
     "metadata": {},
     "output_type": "execute_result"
    }
   ],
   "source": [
    "np.random.rand(10,2)      # random samples from uniform dist ranges from [0,1)"
   ]
  },
  {
   "cell_type": "code",
   "execution_count": 92,
   "id": "ab5dd3dd",
   "metadata": {},
   "outputs": [
    {
     "data": {
      "text/plain": [
       "array([ 1.6342184 , -0.08271339, -0.99972447, -0.5748229 , -0.41206981,\n",
       "       -0.45668365, -0.83342429,  0.59558876, -0.52867647,  0.96276241])"
      ]
     },
     "execution_count": 92,
     "metadata": {},
     "output_type": "execute_result"
    }
   ],
   "source": [
    "np.random.randn(10)       # random samples from std normal dist ranges from -3 to +3"
   ]
  },
  {
   "cell_type": "code",
   "execution_count": 105,
   "id": "bc02195f",
   "metadata": {},
   "outputs": [],
   "source": [
    "marks=np.random.randint(60,101,65)"
   ]
  },
  {
   "cell_type": "code",
   "execution_count": 107,
   "id": "09558468",
   "metadata": {},
   "outputs": [
    {
     "data": {
      "text/plain": [
       "100"
      ]
     },
     "execution_count": 107,
     "metadata": {},
     "output_type": "execute_result"
    }
   ],
   "source": [
    "marks.max()"
   ]
  },
  {
   "cell_type": "code",
   "execution_count": 108,
   "id": "f1f5a2db",
   "metadata": {},
   "outputs": [
    {
     "data": {
      "text/plain": [
       "30"
      ]
     },
     "execution_count": 108,
     "metadata": {},
     "output_type": "execute_result"
    }
   ],
   "source": [
    "marks.argmax()    "
   ]
  },
  {
   "cell_type": "markdown",
   "id": "68d48b04",
   "metadata": {},
   "source": [
    "## Indexing and Selection"
   ]
  },
  {
   "cell_type": "code",
   "execution_count": 4,
   "id": "c7a4be8c",
   "metadata": {},
   "outputs": [
    {
     "name": "stdout",
     "output_type": "stream",
     "text": [
      "[10 17 24 31 38 45 52 59 66 73 80 87 94]\n"
     ]
    }
   ],
   "source": [
    "x=np.arange(10,100,7)\n",
    "print(x)"
   ]
  },
  {
   "cell_type": "code",
   "execution_count": 15,
   "id": "ea1a314d",
   "metadata": {},
   "outputs": [
    {
     "name": "stdout",
     "output_type": "stream",
     "text": [
      "Length:  13\n",
      "First Element:  10\n",
      "Last Element:  94\n",
      "Alternate elements at even position:  [10 24 38 52 66 80 94]\n",
      "Alternate elements at odd position:  [17 31 45 59 73 87]\n",
      "Reverse List:  [94 87 80 73 66 59 52 45 38 31 24 17 10]\n"
     ]
    }
   ],
   "source": [
    "print('Length: ',len(x))\n",
    "print('First Element: ',x[0])\n",
    "print('Last Element: ',x[-1])\n",
    "print('Alternate elements at even position: ',x[0::2])\n",
    "print('Alternate elements at odd position: ',x[1::2])\n",
    "print('Reverse List: ',x[::-1])"
   ]
  },
  {
   "cell_type": "markdown",
   "id": "8060806a",
   "metadata": {},
   "source": [
    "## Filtering"
   ]
  },
  {
   "cell_type": "code",
   "execution_count": 24,
   "id": "6d88fa3e",
   "metadata": {},
   "outputs": [
    {
     "name": "stdout",
     "output_type": "stream",
     "text": [
      "[ 64 185 149 337 418  28 231 142 265 237  58 310  65 179  30 187 143 494\n",
      "  17 150]\n"
     ]
    }
   ],
   "source": [
    "x=np.random.randint(0,500,20)\n",
    "print(x)"
   ]
  },
  {
   "cell_type": "code",
   "execution_count": 25,
   "id": "ca18d193",
   "metadata": {},
   "outputs": [
    {
     "data": {
      "text/plain": [
       "array([ True, False, False, False, False,  True, False, False, False,\n",
       "       False,  True, False,  True, False,  True, False, False, False,\n",
       "        True, False])"
      ]
     },
     "execution_count": 25,
     "metadata": {},
     "output_type": "execute_result"
    }
   ],
   "source": [
    "x<100"
   ]
  },
  {
   "cell_type": "code",
   "execution_count": 26,
   "id": "2ec0d103",
   "metadata": {},
   "outputs": [
    {
     "data": {
      "text/plain": [
       "(array([ 0,  5, 10, 12, 14, 18], dtype=int64),)"
      ]
     },
     "execution_count": 26,
     "metadata": {},
     "output_type": "execute_result"
    }
   ],
   "source": [
    "np.where(x<100)"
   ]
  },
  {
   "cell_type": "code",
   "execution_count": 28,
   "id": "a40f4f6d",
   "metadata": {},
   "outputs": [
    {
     "name": "stdout",
     "output_type": "stream",
     "text": [
      "[[165 480 293 438  65]\n",
      " [406 345 281 325 491]\n",
      " [449 108 335 451  22]\n",
      " [ 48 271 303 101 386]\n",
      " [373 120 133  72 461]]\n"
     ]
    }
   ],
   "source": [
    "x=np.random.randint(0,500,25).reshape((5,5))\n",
    "print(x)"
   ]
  },
  {
   "cell_type": "code",
   "execution_count": 31,
   "id": "71f06f0a",
   "metadata": {},
   "outputs": [
    {
     "data": {
      "text/plain": [
       "array([[345, 325],\n",
       "       [271, 101]])"
      ]
     },
     "execution_count": 31,
     "metadata": {},
     "output_type": "execute_result"
    }
   ],
   "source": [
    "x[1::2,1::2]"
   ]
  },
  {
   "cell_type": "code",
   "execution_count": 33,
   "id": "8ca2335e",
   "metadata": {},
   "outputs": [
    {
     "data": {
      "text/plain": [
       "array([[165, 480],\n",
       "       [406, 345],\n",
       "       [449, 108],\n",
       "       [ 48, 271],\n",
       "       [373, 120]])"
      ]
     },
     "execution_count": 33,
     "metadata": {},
     "output_type": "execute_result"
    }
   ],
   "source": [
    "x[:,:2]           "
   ]
  },
  {
   "cell_type": "code",
   "execution_count": 34,
   "id": "3bf528b8",
   "metadata": {},
   "outputs": [
    {
     "ename": "SyntaxError",
     "evalue": "invalid syntax (2630041655.py, line 1)",
     "output_type": "error",
     "traceback": [
      "\u001b[1;36m  Cell \u001b[1;32mIn[34], line 1\u001b[1;36m\u001b[0m\n\u001b[1;33m    x[,]\u001b[0m\n\u001b[1;37m      ^\u001b[0m\n\u001b[1;31mSyntaxError\u001b[0m\u001b[1;31m:\u001b[0m invalid syntax\n"
     ]
    }
   ],
   "source": [
    "x[,]"
   ]
  },
  {
   "cell_type": "code",
   "execution_count": 35,
   "id": "bc459468",
   "metadata": {},
   "outputs": [
    {
     "data": {
      "text/plain": [
       "array([[50, 73, 44, 88, 87, 62, 93, 65, 29, 89],\n",
       "       [43, 74,  0, 23, 45, 45, 46,  5, 39, 68],\n",
       "       [91, 50, 83, 99, 88, 26, 75, 50, 58, 80],\n",
       "       [89, 49, 69, 96, 77, 35, 69,  2, 62, 99],\n",
       "       [48, 23, 70,  7, 28, 21, 41, 67, 87, 94],\n",
       "       [44,  8, 71, 36, 70, 86, 92,  2, 77, 38],\n",
       "       [89, 35, 13, 54, 85, 21, 69, 51, 56, 70],\n",
       "       [39, 50, 41, 88, 79, 65, 40, 25, 11,  1],\n",
       "       [48, 28, 10, 77, 63, 35, 93, 84, 72, 53],\n",
       "       [85, 10,  5, 14, 32, 24, 73, 62, 97, 14]])"
      ]
     },
     "execution_count": 35,
     "metadata": {},
     "output_type": "execute_result"
    }
   ],
   "source": [
    "x=np.random.randint(0,100,100).reshape((10,10))\n",
    "x"
   ]
  },
  {
   "cell_type": "code",
   "execution_count": 39,
   "id": "34209a43",
   "metadata": {},
   "outputs": [],
   "source": [
    "x[0]=np.arange(1,11)"
   ]
  },
  {
   "cell_type": "code",
   "execution_count": 40,
   "id": "9fc87dfa",
   "metadata": {},
   "outputs": [
    {
     "data": {
      "text/plain": [
       "array([[ 1,  2,  3,  4,  5,  6,  7,  8,  9, 10],\n",
       "       [43, 74,  0, 23, 45, 45, 46,  5, 39, 68],\n",
       "       [91, 50, 83, 99, 88, 26, 75, 50, 58, 80],\n",
       "       [89, 49, 69, 96, 77, 35, 69,  2, 62, 99],\n",
       "       [48, 23, 70,  7, 28, 21, 41, 67, 87, 94],\n",
       "       [44,  8, 71, 36, 70, 86, 92,  2, 77, 38],\n",
       "       [89, 35, 13, 54, 85, 21, 69, 51, 56, 70],\n",
       "       [39, 50, 41, 88, 79, 65, 40, 25, 11,  1],\n",
       "       [48, 28, 10, 77, 63, 35, 93, 84, 72, 53],\n",
       "       [85, 10,  5, 14, 32, 24, 73, 62, 97, 14]])"
      ]
     },
     "execution_count": 40,
     "metadata": {},
     "output_type": "execute_result"
    }
   ],
   "source": [
    "x"
   ]
  },
  {
   "cell_type": "code",
   "execution_count": 42,
   "id": "49d48e80",
   "metadata": {},
   "outputs": [
    {
     "data": {
      "text/plain": [
       "10"
      ]
     },
     "execution_count": 42,
     "metadata": {},
     "output_type": "execute_result"
    }
   ],
   "source": [
    "X[:,]"
   ]
  },
  {
   "cell_type": "code",
   "execution_count": 44,
   "id": "bce5ebbe",
   "metadata": {},
   "outputs": [
    {
     "data": {
      "text/plain": [
       "array([[0., 0., 0., 0., 0., 0., 0., 0., 0., 0.],\n",
       "       [0., 0., 0., 0., 0., 0., 0., 0., 0., 0.],\n",
       "       [0., 0., 0., 0., 0., 0., 0., 0., 0., 0.],\n",
       "       [0., 0., 0., 0., 0., 0., 0., 0., 0., 0.],\n",
       "       [0., 0., 0., 0., 0., 0., 0., 0., 0., 0.],\n",
       "       [0., 0., 0., 0., 0., 0., 0., 0., 0., 0.],\n",
       "       [0., 0., 0., 0., 0., 0., 0., 0., 0., 0.],\n",
       "       [0., 0., 0., 0., 0., 0., 0., 0., 0., 0.],\n",
       "       [0., 0., 0., 0., 0., 0., 0., 0., 0., 0.],\n",
       "       [0., 0., 0., 0., 0., 0., 0., 0., 0., 0.]])"
      ]
     },
     "execution_count": 44,
     "metadata": {},
     "output_type": "execute_result"
    }
   ],
   "source": [
    "arr=np.zeros((10,10))\n",
    "arr"
   ]
  },
  {
   "cell_type": "code",
   "execution_count": 47,
   "id": "f26805b3",
   "metadata": {},
   "outputs": [
    {
     "data": {
      "text/plain": [
       "array([[  1.,   2.,   3.,   4.,   5.,   6.,   7.,   8.,   9.,  10.],\n",
       "       [ 11.,  12.,  13.,  14.,  15.,  16.,  17.,  18.,  19.,  20.],\n",
       "       [ 21.,  22.,  23.,  24.,  25.,  26.,  27.,  28.,  29.,  30.],\n",
       "       [ 31.,  32.,  33.,  34.,  35.,  36.,  37.,  38.,  39.,  40.],\n",
       "       [ 41.,  42.,  43.,  44.,  45.,  46.,  47.,  48.,  49.,  50.],\n",
       "       [ 51.,  52.,  53.,  54.,  55.,  56.,  57.,  58.,  59.,  60.],\n",
       "       [ 61.,  62.,  63.,  64.,  65.,  66.,  67.,  68.,  69.,  70.],\n",
       "       [ 71.,  72.,  73.,  74.,  75.,  76.,  77.,  78.,  79.,  80.],\n",
       "       [ 81.,  82.,  83.,  84.,  85.,  86.,  87.,  88.,  89.,  90.],\n",
       "       [ 91.,  92.,  93.,  94.,  95.,  96.,  97.,  98.,  99., 100.]])"
      ]
     },
     "execution_count": 47,
     "metadata": {},
     "output_type": "execute_result"
    }
   ],
   "source": [
    "j=0\n",
    "for i in range(x.shape[0]):\n",
    "    arr[i]=np.arange(j+1,j+11)\n",
    "    j+=10\n",
    "arr"
   ]
  },
  {
   "cell_type": "code",
   "execution_count": 48,
   "id": "dc1ddba7",
   "metadata": {},
   "outputs": [
    {
     "data": {
      "text/plain": [
       "array([[11., 12., 13., 14., 15., 16., 17., 18., 19., 20.],\n",
       "       [41., 42., 43., 44., 45., 46., 47., 48., 49., 50.],\n",
       "       [71., 72., 73., 74., 75., 76., 77., 78., 79., 80.]])"
      ]
     },
     "execution_count": 48,
     "metadata": {},
     "output_type": "execute_result"
    }
   ],
   "source": [
    "arr[[1,4,7]]"
   ]
  },
  {
   "cell_type": "code",
   "execution_count": 52,
   "id": "b437f1ca",
   "metadata": {},
   "outputs": [
    {
     "data": {
      "text/plain": [
       "array([[  5.,  10.],\n",
       "       [ 15.,  20.],\n",
       "       [ 25.,  30.],\n",
       "       [ 35.,  40.],\n",
       "       [ 45.,  50.],\n",
       "       [ 55.,  60.],\n",
       "       [ 65.,  70.],\n",
       "       [ 75.,  80.],\n",
       "       [ 85.,  90.],\n",
       "       [ 95., 100.]])"
      ]
     },
     "execution_count": 52,
     "metadata": {},
     "output_type": "execute_result"
    }
   ],
   "source": [
    "arr[::,4::5]"
   ]
  },
  {
   "cell_type": "code",
   "execution_count": null,
   "id": "5d35df0b",
   "metadata": {},
   "outputs": [],
   "source": []
  }
 ],
 "metadata": {
  "kernelspec": {
   "display_name": "Python 3 (ipykernel)",
   "language": "python",
   "name": "python3"
  },
  "language_info": {
   "codemirror_mode": {
    "name": "ipython",
    "version": 3
   },
   "file_extension": ".py",
   "mimetype": "text/x-python",
   "name": "python",
   "nbconvert_exporter": "python",
   "pygments_lexer": "ipython3",
   "version": "3.11.4"
  }
 },
 "nbformat": 4,
 "nbformat_minor": 5
}
